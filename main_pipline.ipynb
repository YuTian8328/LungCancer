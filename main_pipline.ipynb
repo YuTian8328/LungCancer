{
 "cells": [
  {
   "cell_type": "code",
   "execution_count": 1,
   "id": "02295541",
   "metadata": {
    "scrolled": false
   },
   "outputs": [
    {
     "name": "stdout",
     "output_type": "stream",
     "text": [
      "/Users/tiany4/Documents/00_mom_stuff/LungCancer\r\n"
     ]
    }
   ],
   "source": [
    "!pwd ## checkout if we are working under the correct directory"
   ]
  },
  {
   "cell_type": "code",
   "execution_count": 2,
   "id": "71680048",
   "metadata": {},
   "outputs": [],
   "source": [
    "import numpy as np"
   ]
  },
  {
   "cell_type": "code",
   "execution_count": 3,
   "id": "b17d37ac",
   "metadata": {
    "scrolled": true
   },
   "outputs": [],
   "source": [
    "import networkx as nx\n",
    "import pandas as pd\n",
    "from pathlib import Path\n",
    "from build_graph import build_graph_from_raw\n",
    "from data import GNNDataset,nx_to_tg_graph,process_feature,GNNgraphSampler\n",
    "from models import GNN_pred"
   ]
  },
  {
   "cell_type": "markdown",
   "id": "63717f51",
   "metadata": {},
   "source": [
    "## Generate nx Graphs from raw data"
   ]
  },
  {
   "cell_type": "code",
   "execution_count": 4,
   "id": "d8625e9e",
   "metadata": {},
   "outputs": [
    {
     "name": "stdout",
     "output_type": "stream",
     "text": [
      "1-s2.0-S2667237522002363-main.pdf  data-exploration.ipynb\r\n",
      "LICENSE                            data.py\r\n",
      "README.md                          main_pipline.ipynb\r\n",
      "\u001b[1m\u001b[36m__pycache__\u001b[m\u001b[m/                       models.py\r\n",
      "build_graph.py                     test.py\r\n",
      "\u001b[1m\u001b[36mdata\u001b[m\u001b[m/                              utils.py\r\n"
     ]
    }
   ],
   "source": [
    "ls"
   ]
  },
  {
   "cell_type": "code",
   "execution_count": 5,
   "id": "34fb9af9",
   "metadata": {},
   "outputs": [],
   "source": [
    "# directory names\n",
    "graph_dir = \"data/graphs_from_raw\""
   ]
  },
  {
   "cell_type": "code",
   "execution_count": 6,
   "id": "6ba23f30",
   "metadata": {},
   "outputs": [],
   "source": [
    "import os\n",
    "from pathlib import Path\n",
    "from build_graph import build_graph_from_raw  # the module to create a networkx graph\n",
    "import networkx as nx"
   ]
  },
  {
   "cell_type": "code",
   "execution_count": 7,
   "id": "28687901",
   "metadata": {},
   "outputs": [],
   "source": [
    "df = pd.read_csv('data/features_withloc.csv')"
   ]
  },
  {
   "cell_type": "code",
   "execution_count": 8,
   "id": "854d7ff6",
   "metadata": {
    "scrolled": true
   },
   "outputs": [],
   "source": [
    "unique_spots = np.unique(df.spot)"
   ]
  },
  {
   "cell_type": "code",
   "execution_count": 9,
   "id": "e729e1cc",
   "metadata": {},
   "outputs": [
    {
     "data": {
      "text/plain": [
       "array([  1,   2,   3,   4,   5,   6,   7,   8,   9,  10,  11,  12,  13,\n",
       "        14,  15,  16,  17,  18,  19,  20,  21,  22,  23,  24,  25,  26,\n",
       "        27,  28,  29,  30,  31,  32,  33,  34,  35,  36,  37,  38,  39,\n",
       "        40,  41,  42,  43,  44,  45,  46,  47,  48,  49,  50,  51,  52,\n",
       "        53,  54,  55,  56,  57,  58,  59,  60,  61,  62,  63,  64,  65,\n",
       "        66,  67,  68,  69,  70,  71,  72,  73,  74,  75,  76,  77,  78,\n",
       "        79,  80,  81,  82,  83,  84,  85,  86,  87,  88,  89,  90,  91,\n",
       "        92,  93,  94,  95,  96,  97,  98,  99, 100, 101, 102, 103, 104,\n",
       "       105, 106, 107, 108, 109, 110, 111, 112, 113, 114, 115, 116, 117,\n",
       "       118, 119, 120])"
      ]
     },
     "execution_count": 9,
     "metadata": {},
     "output_type": "execute_result"
    }
   ],
   "source": [
    "unique_spots"
   ]
  },
  {
   "cell_type": "code",
   "execution_count": 11,
   "id": "eb16e247",
   "metadata": {},
   "outputs": [],
   "source": [
    "# # generate nx graphs from raw data\n",
    "# for spot in unique_spots:\n",
    "    \n",
    "#     df_temp = df[df.spot==spot]\n",
    "#     G = build_graph_from_raw(df_temp)\n",
    "    \n",
    "#     file_path = Path(graph_dir, 'spot'+str(spot)+'.gpkl')\n",
    "#         # nodes with distance less than max_dist is considered as connected\n",
    "#     nx.write_gpickle(G, file_path)"
   ]
  },
  {
   "cell_type": "code",
   "execution_count": 14,
   "id": "1f9854b2",
   "metadata": {},
   "outputs": [
    {
     "name": "stdout",
     "output_type": "stream",
     "text": [
      "spot1.gpkl\n",
      "{'histology': [1], 'coord': array([876., 583.]), 'marker': array([1696.1357 ,  195.96324])}\n",
      "spot6.gpkl\n",
      "{'histology': [1], 'coord': array([3461.,  811.]), 'marker': array([492.04843, 239.0114 ])}\n"
     ]
    }
   ],
   "source": [
    "# check out file names\n",
    "for file in os.listdir(graph_dir)[:3]:\n",
    "    if not file.endswith('.DS_Store'):\n",
    "        print(file)\n",
    "        file_path = Path(graph_dir, file)\n",
    "        G = nx.read_gpickle(file_path)\n",
    "        print(G.nodes()[0])"
   ]
  },
  {
   "cell_type": "code",
   "execution_count": 15,
   "id": "0dc2c992",
   "metadata": {},
   "outputs": [
    {
     "data": {
      "text/plain": [
       "{'histology': [1],\n",
       " 'coord': array([3461.,  811.]),\n",
       " 'marker': array([492.04843, 239.0114 ])}"
      ]
     },
     "execution_count": 15,
     "metadata": {},
     "output_type": "execute_result"
    }
   ],
   "source": [
    "# checkout node features. NOTE: to add more features, please modify the build_graph.py module. \n",
    "G.nodes()[0]"
   ]
  },
  {
   "cell_type": "code",
   "execution_count": 16,
   "id": "9d20ae82",
   "metadata": {},
   "outputs": [],
   "source": [
    "# G.edges()"
   ]
  },
  {
   "cell_type": "code",
   "execution_count": 17,
   "id": "d941668f",
   "metadata": {},
   "outputs": [],
   "source": [
    "# checkout edge features: node pair distance and encoded edge_type, 1 means far, 0 means close \n",
    "# for details, please checkout build_graph.py\n",
    "# G.edges()[(4,108)]"
   ]
  },
  {
   "cell_type": "code",
   "execution_count": 18,
   "id": "34cec77d",
   "metadata": {},
   "outputs": [],
   "source": [
    "# node_features=[\"marker\", \"coord\"],\n",
    "# edge_features=[\"edge_type\", \"distance\"],"
   ]
  },
  {
   "cell_type": "markdown",
   "id": "afa33633",
   "metadata": {},
   "source": [
    "## Generate tensor graphs from nx graphs"
   ]
  },
  {
   "cell_type": "code",
   "execution_count": 19,
   "id": "194dc476",
   "metadata": {},
   "outputs": [],
   "source": [
    "# from data import GNNDataset,nx_to_tg_graph,process_feature,GNNgraphSampler\n",
    "from data import nx_to_tg_graph,GNNDataset,GNNgraphSampler\n",
    "import torch"
   ]
  },
  {
   "cell_type": "code",
   "execution_count": 20,
   "id": "3fc24926",
   "metadata": {},
   "outputs": [],
   "source": [
    "tensor_dir = 'data/tensor_graphs'"
   ]
  },
  {
   "cell_type": "code",
   "execution_count": 22,
   "id": "e5b81d00",
   "metadata": {
    "scrolled": true
   },
   "outputs": [],
   "source": [
    "# # generate nx graphs from raw data\n",
    "\n",
    "# for file in os.listdir(graph_dir):\n",
    "    \n",
    "#     if not file.endswith('.DS_Store'):\n",
    "#         graph_path = os.path.join(graph_dir, file)\n",
    "#         G = nx.read_gpickle(graph_path)\n",
    "#         data = nx_to_tg_graph(G)\n",
    "#         torch.save(data, os.path.join(tensor_dir,'%s.gpt' % file[:-5]))\n"
   ]
  },
  {
   "cell_type": "code",
   "execution_count": 24,
   "id": "9cfdefea",
   "metadata": {
    "scrolled": true
   },
   "outputs": [
    {
     "name": "stdout",
     "output_type": "stream",
     "text": [
      ".gpt\n",
      ".DS_Store\n",
      "spot3.gpt\n"
     ]
    }
   ],
   "source": [
    "# check out file names\n",
    "for file in os.listdir(tensor_dir)[0:3]:\n",
    "    print(file)\n",
    "#     file_path = Path(tensor_dir, file)\n",
    "#     data = torch.load(file_path)"
   ]
  },
  {
   "cell_type": "code",
   "execution_count": 25,
   "id": "4b5b2de5",
   "metadata": {},
   "outputs": [],
   "source": [
    "data = torch.load('data/tensor_graphs/spot3.gpt')"
   ]
  },
  {
   "cell_type": "code",
   "execution_count": 26,
   "id": "3043d8ed",
   "metadata": {},
   "outputs": [
    {
     "data": {
      "text/plain": [
       "['edge_attr', 'y', 'edge_index', 'x', 'num_nodes']"
      ]
     },
     "execution_count": 26,
     "metadata": {},
     "output_type": "execute_result"
    }
   ],
   "source": [
    "# checkout tensor data which is standard input for GNN  ( x contains node features, y contains nodel label).\n",
    "# for details/modification, please checkout the data.py module.\n",
    "data.keys"
   ]
  },
  {
   "cell_type": "code",
   "execution_count": 27,
   "id": "e9b8267a",
   "metadata": {},
   "outputs": [
    {
     "data": {
      "text/plain": [
       "torch.Size([4724])"
      ]
     },
     "execution_count": 27,
     "metadata": {},
     "output_type": "execute_result"
    }
   ],
   "source": [
    "data['y'].shape"
   ]
  },
  {
   "cell_type": "markdown",
   "id": "a480d00d",
   "metadata": {},
   "source": [
    "## Customized standard torch.geometric dataset and dataloader"
   ]
  },
  {
   "cell_type": "code",
   "execution_count": 28,
   "id": "318651a6",
   "metadata": {},
   "outputs": [],
   "source": [
    "from data import GNNDataset,GNNgraphSampler\n",
    "from utils import CHANNEL_MARKERS"
   ]
  },
  {
   "cell_type": "code",
   "execution_count": 38,
   "id": "8b752a09",
   "metadata": {},
   "outputs": [],
   "source": [
    "from utils import CHANNEL_MARKERS\n",
    "dataset = GNNDataset(root=\"data\",  \n",
    "                     node_features=[ 'histology','marker', 'coord'],\n",
    "                     edge_features=['edge_type', 'distance'],\n",
    "                     channel_markers=CHANNEL_MARKERS)"
   ]
  },
  {
   "cell_type": "code",
   "execution_count": 39,
   "id": "9ef4a65d",
   "metadata": {},
   "outputs": [
    {
     "data": {
      "text/plain": [
       "['DAPI_mean', 'PDGFRB_mean']"
      ]
     },
     "execution_count": 39,
     "metadata": {},
     "output_type": "execute_result"
    }
   ],
   "source": [
    "dataset.channel_markers  ## channels used for test"
   ]
  },
  {
   "cell_type": "code",
   "execution_count": 40,
   "id": "4d429712",
   "metadata": {},
   "outputs": [
    {
     "data": {
      "text/plain": [
       "['histology', 'marker-DAPI_mean', 'marker-PDGFRB_mean', 'coord-x', 'coord-y']"
      ]
     },
     "execution_count": 40,
     "metadata": {},
     "output_type": "execute_result"
    }
   ],
   "source": [
    "dataset.node_feature_names "
   ]
  },
  {
   "cell_type": "code",
   "execution_count": 41,
   "id": "fba279e1",
   "metadata": {},
   "outputs": [
    {
     "data": {
      "text/plain": [
       "['edge_type', 'distance']"
      ]
     },
     "execution_count": 41,
     "metadata": {},
     "output_type": "execute_result"
    }
   ],
   "source": [
    "dataset.edge_feature_names"
   ]
  },
  {
   "cell_type": "code",
   "execution_count": 78,
   "id": "9079b054",
   "metadata": {},
   "outputs": [
    {
     "name": "stdout",
     "output_type": "stream",
     "text": [
      "Initiate data loader, subgraph source: None\n",
      "1\n",
      "['data/tensor_graphs/.gpt', 'data/tensor_graphs/spot1.gpt', 'data/tensor_graphs/spot10.gpt', 'data/tensor_graphs/spot2.gpt', 'data/tensor_graphs/spot3.gpt', 'data/tensor_graphs/spot4.gpt', 'data/tensor_graphs/spot5.gpt', 'data/tensor_graphs/spot6.gpt', 'data/tensor_graphs/spot7.gpt', 'data/tensor_graphs/spot8.gpt', 'data/tensor_graphs/spot9.gpt']\n",
      "['data/tensor_graphs/.gpt', 'data/tensor_graphs/spot1.gpt', 'data/tensor_graphs/spot10.gpt', 'data/tensor_graphs/spot2.gpt', 'data/tensor_graphs/spot3.gpt', 'data/tensor_graphs/spot4.gpt', 'data/tensor_graphs/spot5.gpt', 'data/tensor_graphs/spot6.gpt', 'data/tensor_graphs/spot7.gpt', 'data/tensor_graphs/spot8.gpt', 'data/tensor_graphs/spot9.gpt']\n",
      "0\n"
     ]
    }
   ],
   "source": [
    "# customized dataloader\n",
    "data_iter = GNNgraphSampler(dataset, \n",
    "                                 selected_inds=None,\n",
    "                                     batch_size=2,\n",
    "                                     num_graphs_per_segment=2,\n",
    "                                     steps_per_segment=1000)\n",
    "\n",
    "batch = next(data_iter)"
   ]
  },
  {
   "cell_type": "code",
   "execution_count": 79,
   "id": "fdb67b6e",
   "metadata": {},
   "outputs": [
    {
     "data": {
      "text/plain": [
       "['edge_attr', 'y', 'ptr', 'edge_index', 'x', 'batch', 'num_nodes']"
      ]
     },
     "execution_count": 79,
     "metadata": {},
     "output_type": "execute_result"
    }
   ],
   "source": [
    "batch.keys"
   ]
  },
  {
   "cell_type": "markdown",
   "id": "0604d309",
   "metadata": {},
   "source": [
    "## Sanity check GNN model training\n",
    "\n",
    "Train a GNN model to do histology prediction. The main objective is to obtain node embeddings."
   ]
  },
  {
   "cell_type": "code",
   "execution_count": 80,
   "id": "0c030c9b",
   "metadata": {},
   "outputs": [],
   "source": [
    "from models import GNN_pred   ## The module where models are defined"
   ]
  },
  {
   "cell_type": "code",
   "execution_count": 81,
   "id": "84dd9001",
   "metadata": {},
   "outputs": [],
   "source": [
    " model_kwargs = {\n",
    "        'num_layer': 3, \n",
    "        'num_node_type': None,\n",
    "        'num_feat': dataset[0].x.shape[1],\n",
    "        'emb_dim': 512, \n",
    "        'num_node_tasks': 1,\n",
    "        'num_graph_tasks': 0, \n",
    "        'node_embedding_output': 'last', \n",
    "        'drop_ratio': 0.25, \n",
    "        'graph_pooling': \"max\", \n",
    "        'gnn_type': \"gin\",\n",
    "    }"
   ]
  },
  {
   "cell_type": "code",
   "execution_count": 82,
   "id": "094d2617",
   "metadata": {},
   "outputs": [],
   "source": [
    "model = GNN_pred(**model_kwargs)"
   ]
  },
  {
   "cell_type": "code",
   "execution_count": 83,
   "id": "a68bf551",
   "metadata": {},
   "outputs": [
    {
     "data": {
      "text/plain": [
       "GNN_pred(\n",
       "  (gnn): GNN(\n",
       "    (feat_embedding): Linear(in_features=5, out_features=512, bias=True)\n",
       "    (gnns): ModuleList(\n",
       "      (0): GINConv()\n",
       "      (1): GINConv()\n",
       "      (2): GINConv()\n",
       "    )\n",
       "    (batch_norms): ModuleList(\n",
       "      (0): BatchNorm1d(512, eps=1e-05, momentum=0.1, affine=True, track_running_stats=True)\n",
       "      (1): BatchNorm1d(512, eps=1e-05, momentum=0.1, affine=True, track_running_stats=True)\n",
       "      (2): BatchNorm1d(512, eps=1e-05, momentum=0.1, affine=True, track_running_stats=True)\n",
       "    )\n",
       "  )\n",
       "  (node_pred_module): Sequential(\n",
       "    (0): Linear(in_features=512, out_features=512, bias=True)\n",
       "    (1): LeakyReLU(negative_slope=0.01)\n",
       "    (2): Linear(in_features=512, out_features=512, bias=True)\n",
       "    (3): LeakyReLU(negative_slope=0.01)\n",
       "    (4): Linear(in_features=512, out_features=1, bias=True)\n",
       "  )\n",
       ")"
      ]
     },
     "execution_count": 83,
     "metadata": {},
     "output_type": "execute_result"
    }
   ],
   "source": [
    "# checkout model structure: linear embedding layer -> 3 GINConv layers \n",
    "#                         -> batch norm layers -> MLP head(for channel markers prediction) \n",
    "\n",
    "# Note: linear embedding layer combines node embeddings and edge embeddings, i.e. both node features and edge features will be used as input to the model. for details/modifications, please checkout models.py module.   \n",
    "model "
   ]
  },
  {
   "cell_type": "code",
   "execution_count": 84,
   "id": "de1c482f",
   "metadata": {},
   "outputs": [],
   "source": [
    "import torch.nn as nn\n",
    "node_task_criterion = nn.MSELoss() ## using MSE as loss"
   ]
  },
  {
   "cell_type": "code",
   "execution_count": 85,
   "id": "07aca058",
   "metadata": {},
   "outputs": [],
   "source": [
    "device ='cpu'\n",
    "# training\n",
    "num_iterations = 100\n",
    "optimizer = torch.optim.Adam(model.parameters()) \n",
    "losses = []\n",
    "for i_iter in range(int(num_iterations)):\n",
    "    batch = next(data_iter)\n",
    "    batch = batch.to(device)\n",
    "    batch_pred = model(batch)[0] \n",
    "    batch_y = batch.y.float() \n",
    "    loss = node_task_criterion(batch_pred,batch_y)\n",
    "    losses.append(loss.detach())\n",
    "\n",
    "    loss.backward()\n",
    "    optimizer.step()\n",
    "    model.zero_grad()"
   ]
  },
  {
   "cell_type": "code",
   "execution_count": 86,
   "id": "31df3d1b",
   "metadata": {},
   "outputs": [
    {
     "data": {
      "text/plain": [
       "[<matplotlib.lines.Line2D at 0x2935abb50>]"
      ]
     },
     "execution_count": 86,
     "metadata": {},
     "output_type": "execute_result"
    },
    {
     "data": {
      "image/png": "[encoded data removed]",
      "text/plain": [
       "<Figure size 640x480 with 1 Axes>"
      ]
     },
     "metadata": {},
     "output_type": "display_data"
    }
   ],
   "source": [
    "import matplotlib.pyplot as plt\n",
    "plt.plot(losses)"
   ]
  },
  {
   "cell_type": "code",
   "execution_count": 87,
   "id": "b6f05cf7",
   "metadata": {},
   "outputs": [
    {
     "data": {
      "text/plain": [
       "torch.Size([6871, 512])"
      ]
     },
     "execution_count": 87,
     "metadata": {},
     "output_type": "execute_result"
    }
   ],
   "source": [
    "# By setting return_node_embedding=True, we can obtain node embeddings.\n",
    "# This is an example for the first graph in the dataset.\n",
    "embeddings = model(dataset[0],return_node_embedding=True)[1]\n",
    "embeddings.shape"
   ]
  },
  {
   "cell_type": "markdown",
   "id": "84895020",
   "metadata": {},
   "source": [
    "For further node embedding clustering/analysis, maybe we can try the method described in https://www.biorxiv.org/content/10.1101/2022.05.12.491707v1.full.pdf page20"
   ]
  },
  {
   "cell_type": "code",
   "execution_count": null,
   "id": "81b4bb99",
   "metadata": {},
   "outputs": [],
   "source": []
  }
 ],
 "metadata": {
  "kernelspec": {
   "display_name": "Python 3 (ipykernel)",
   "language": "python",
   "name": "python3"
  },
  "language_info": {
   "codemirror_mode": {
    "name": "ipython",
    "version": 3
   },
   "file_extension": ".py",
   "mimetype": "text/x-python",
   "name": "python",
   "nbconvert_exporter": "python",
   "pygments_lexer": "ipython3",
   "version": "3.10.6"
  },
  "toc": {
   "base_numbering": 1,
   "nav_menu": {},
   "number_sections": true,
   "sideBar": true,
   "skip_h1_title": false,
   "title_cell": "Table of Contents",
   "title_sidebar": "Contents",
   "toc_cell": false,
   "toc_position": {},
   "toc_section_display": true,
   "toc_window_display": false
  },
  "vscode": {
   "interpreter": {
    "hash": "7cf5bad8cc82d27d981600ed93eab714cd1f9164a5a711caac2c11f6ad3252dd"
   }
  }
 },
 "nbformat": 4,
 "nbformat_minor": 5
}
