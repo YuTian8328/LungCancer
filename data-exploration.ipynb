{
 "cells": [
  {
   "cell_type": "code",
   "execution_count": 42,
   "id": "0c6ea474",
   "metadata": {},
   "outputs": [],
   "source": [
    "\n",
    "import numpy as np\n",
    "\n",
    "import torch\n",
    "import networkx as nx\n",
    "import pandas as pd\n",
    "from utils import CHANNEL_MARKERS\n"
   ]
  },
  {
   "cell_type": "code",
   "execution_count": 35,
   "id": "6b977f8b",
   "metadata": {
    "scrolled": true
   },
   "outputs": [
    {
     "name": "stdout",
     "output_type": "stream",
     "text": [
      "/Users/tiany4/Documents/00_mom_stuff/LungCancer\n"
     ]
    }
   ],
   "source": [
    "cd lungcancer"
   ]
  },
  {
   "cell_type": "code",
   "execution_count": 47,
   "id": "358f2c1c",
   "metadata": {},
   "outputs": [],
   "source": [
    "df = pd.read_csv('data/features_withloc.csv')"
   ]
  },
  {
   "cell_type": "code",
   "execution_count": null,
   "id": "c4a47957",
   "metadata": {},
   "outputs": [],
   "source": []
  },
  {
   "cell_type": "code",
   "execution_count": 48,
   "id": "e8bcfa87",
   "metadata": {},
   "outputs": [],
   "source": [
    "df = df[df.spot==1]"
   ]
  },
  {
   "cell_type": "code",
   "execution_count": 49,
   "id": "6455e884",
   "metadata": {},
   "outputs": [
    {
     "data": {
      "text/html": [
       "<div>\n",
       "<style scoped>\n",
       "    .dataframe tbody tr th:only-of-type {\n",
       "        vertical-align: middle;\n",
       "    }\n",
       "\n",
       "    .dataframe tbody tr th {\n",
       "        vertical-align: top;\n",
       "    }\n",
       "\n",
       "    .dataframe thead th {\n",
       "        text-align: right;\n",
       "    }\n",
       "</style>\n",
       "<table border=\"1\" class=\"dataframe\">\n",
       "  <thead>\n",
       "    <tr style=\"text-align: right;\">\n",
       "      <th></th>\n",
       "      <th>Location X</th>\n",
       "      <th>Location Y</th>\n",
       "    </tr>\n",
       "  </thead>\n",
       "  <tbody>\n",
       "    <tr>\n",
       "      <th>0</th>\n",
       "      <td>876.0</td>\n",
       "      <td>583.0</td>\n",
       "    </tr>\n",
       "    <tr>\n",
       "      <th>1</th>\n",
       "      <td>34.0</td>\n",
       "      <td>1211.0</td>\n",
       "    </tr>\n",
       "    <tr>\n",
       "      <th>2</th>\n",
       "      <td>551.5</td>\n",
       "      <td>3774.5</td>\n",
       "    </tr>\n",
       "    <tr>\n",
       "      <th>3</th>\n",
       "      <td>249.5</td>\n",
       "      <td>1577.5</td>\n",
       "    </tr>\n",
       "    <tr>\n",
       "      <th>4</th>\n",
       "      <td>1375.5</td>\n",
       "      <td>411.0</td>\n",
       "    </tr>\n",
       "    <tr>\n",
       "      <th>...</th>\n",
       "      <td>...</td>\n",
       "      <td>...</td>\n",
       "    </tr>\n",
       "    <tr>\n",
       "      <th>6217</th>\n",
       "      <td>3850.0</td>\n",
       "      <td>1477.5</td>\n",
       "    </tr>\n",
       "    <tr>\n",
       "      <th>6218</th>\n",
       "      <td>2617.0</td>\n",
       "      <td>779.5</td>\n",
       "    </tr>\n",
       "    <tr>\n",
       "      <th>6219</th>\n",
       "      <td>2187.5</td>\n",
       "      <td>3358.5</td>\n",
       "    </tr>\n",
       "    <tr>\n",
       "      <th>6220</th>\n",
       "      <td>1337.0</td>\n",
       "      <td>1768.5</td>\n",
       "    </tr>\n",
       "    <tr>\n",
       "      <th>6221</th>\n",
       "      <td>2419.5</td>\n",
       "      <td>1503.0</td>\n",
       "    </tr>\n",
       "  </tbody>\n",
       "</table>\n",
       "<p>6222 rows × 2 columns</p>\n",
       "</div>"
      ],
      "text/plain": [
       "      Location X  Location Y\n",
       "0          876.0       583.0\n",
       "1           34.0      1211.0\n",
       "2          551.5      3774.5\n",
       "3          249.5      1577.5\n",
       "4         1375.5       411.0\n",
       "...          ...         ...\n",
       "6217      3850.0      1477.5\n",
       "6218      2617.0       779.5\n",
       "6219      2187.5      3358.5\n",
       "6220      1337.0      1768.5\n",
       "6221      2419.5      1503.0\n",
       "\n",
       "[6222 rows x 2 columns]"
      ]
     },
     "execution_count": 49,
     "metadata": {},
     "output_type": "execute_result"
    }
   ],
   "source": [
    "df.loc[:,['Location X','Location Y']]"
   ]
  },
  {
   "cell_type": "code",
   "execution_count": 45,
   "id": "1d6a03fa",
   "metadata": {
    "scrolled": true
   },
   "outputs": [
    {
     "data": {
      "text/plain": [
       "(array([1]), array([6222]))"
      ]
     },
     "execution_count": 45,
     "metadata": {},
     "output_type": "execute_result"
    }
   ],
   "source": [
    "np.unique(df.spot.values, return_counts=True)"
   ]
  },
  {
   "cell_type": "code",
   "execution_count": null,
   "id": "e1b4a643",
   "metadata": {},
   "outputs": [],
   "source": [
    "['glass', 'spot', 'DAPI_mean', 'DAPI_std', 'DAPI_median', 'DAPI_mad',\n",
    "       'DAPI_lower_quartile', 'DAPI_upper_quartile', 'Location X',\n",
    "       'Location Y', 'PDGFRB_mean', 'PDGFRB_std', 'PDGFRB_median',\n",
    "       'PDGFRB_mad', 'PDGFRB_lower_quartile', 'PDGFRB_upper_quartile',\n",
    "       'Location X.1', 'Location Y.1', 'PDGFRA_mean', 'PDGFRA_std',\n",
    "       'PDGFRA_median', 'PDGFRA_mad', 'PDGFRA_lower_quartile',\n",
    "       'PDGFRA_upper_quartile', 'Location X.2', 'Location Y.2', 'FAP_mean',\n",
    "       'FAP_std', 'FAP_median', 'FAP_mad', 'FAP_lower_quartile',\n",
    "       'FAP_upper_quartile', 'Location X.3', 'Location Y.3', 'SMA_mean',\n",
    "       'SMA_std', 'SMA_median', 'SMA_mad', 'SMA_lower_quartile',\n",
    "       'SMA_upper_quartile', 'Location X.4', 'Location Y.4', 'PanEpiMask_mean',\n",
    "       'PanEpiMask_std', 'PanEpiMask_median', 'PanEpiMask_mad',\n",
    "       'PanEpiMask_lower_quartile', 'PanEpiMask_upper_quartile',\n",
    "       'Location X.5', 'Location Y.5', 'PanEpiMask_dist_mean',\n",
    "       'PanEpiMask_dist_std', 'PanEpiMask_dist_median', 'PanEpiMask_dist_mad',\n",
    "       'PanEpiMask_dist_lower_quartile', 'PanEpiMask_dist_upper_quartile',\n",
    "       'Location X.6', 'Location Y.6'],"
   ]
  },
  {
   "cell_type": "code",
   "execution_count": 46,
   "id": "33303fa6",
   "metadata": {
    "scrolled": true
   },
   "outputs": [
    {
     "data": {
      "text/plain": [
       "Index(['glass', 'spot', 'DAPI_mean', 'DAPI_std', 'DAPI_median', 'DAPI_mad',\n",
       "       'DAPI_lower_quartile', 'DAPI_upper_quartile', 'Location X',\n",
       "       'Location Y', 'PDGFRB_mean', 'PDGFRB_std', 'PDGFRB_median',\n",
       "       'PDGFRB_mad', 'PDGFRB_lower_quartile', 'PDGFRB_upper_quartile',\n",
       "       'Location X.1', 'Location Y.1', 'PDGFRA_mean', 'PDGFRA_std',\n",
       "       'PDGFRA_median', 'PDGFRA_mad', 'PDGFRA_lower_quartile',\n",
       "       'PDGFRA_upper_quartile', 'Location X.2', 'Location Y.2', 'FAP_mean',\n",
       "       'FAP_std', 'FAP_median', 'FAP_mad', 'FAP_lower_quartile',\n",
       "       'FAP_upper_quartile', 'Location X.3', 'Location Y.3', 'SMA_mean',\n",
       "       'SMA_std', 'SMA_median', 'SMA_mad', 'SMA_lower_quartile',\n",
       "       'SMA_upper_quartile', 'Location X.4', 'Location Y.4', 'PanEpiMask_mean',\n",
       "       'PanEpiMask_std', 'PanEpiMask_median', 'PanEpiMask_mad',\n",
       "       'PanEpiMask_lower_quartile', 'PanEpiMask_upper_quartile',\n",
       "       'Location X.5', 'Location Y.5', 'PanEpiMask_dist_mean',\n",
       "       'PanEpiMask_dist_std', 'PanEpiMask_dist_median', 'PanEpiMask_dist_mad',\n",
       "       'PanEpiMask_dist_lower_quartile', 'PanEpiMask_dist_upper_quartile',\n",
       "       'Location X.6', 'Location Y.6'],\n",
       "      dtype='object')"
      ]
     },
     "execution_count": 46,
     "metadata": {},
     "output_type": "execute_result"
    }
   ],
   "source": [
    "df.columns"
   ]
  },
  {
   "cell_type": "code",
   "execution_count": null,
   "id": "e0548bb7",
   "metadata": {},
   "outputs": [],
   "source": [
    "def build_graphs_from_raw(file_path, max_dist=70):\n",
    "    \"\"\" Build a nx graph from raw csv file.\n",
    "    Generate graph edges based on cells' euclidian distance. \n",
    "    A max distance is set as a threshold \n",
    "    to decide wether or not two nodes are connected.\"\"\"\n",
    "    df = pd.read_csv(file_path, dtype=float)\n",
    "    \n",
    "    node_features = {}\n",
    "    edge_features = {}\n",
    "    for i in range(df.shape[0]):\n",
    "        G.add_node(i)\n",
    "\n",
    "    coordinates = df.iloc[:, 1:4].values\n",
    "    markers = df[CHANNEL_MARKERS].values\n",
    "    sizes = df[['CELL AREA', 'CELL VOLUMETRY']].values\n",
    "\n",
    "    for i in range(G.number_of_nodes()):\n",
    "        node_features[i] = {'coord': coordinates[i],\n",
    "                            'marker': markers[i], 'size': sizes[i]}\n",
    "    nx.set_node_attributes(G, node_features)\n",
    "\n",
    "    for i in range(G.number_of_nodes()):  # iterate nodes\n",
    "        neighbors = []  # list of neighbor index\n",
    "        dists = []  # list of distance between cells\n",
    "        for j in range(G.number_of_nodes()):\n",
    "            # euclidian distance\n",
    "            dist = np.linalg.norm(coordinates[i, :]-coordinates[j, :])\n",
    "    #         print(dist)\n",
    "            if dist < max_dist:  # critical distance\n",
    "                dists.append(dist)\n",
    "                neighbors.append(j)\n",
    "            else:\n",
    "                continue\n",
    "\n",
    "        for k, n in enumerate(neighbors):\n",
    "            if n > i:\n",
    "                G.add_edge(i, n)\n",
    "                edge_features[(i, n)] = {\n",
    "                    \"distance\": dists[k],\n",
    "                    \"edge_type\": 0 if dists[k] < 45 else 1\n",
    "                }\n",
    "    nx.set_edge_attributes(G, edge_features)\n",
    "    return G\n",
    "\n",
    "\n",
    "def get_edges_max_neighbors(coordinates, threshold=5):\n",
    "    ''' generate graph edges based on cells' euclidian distance. \n",
    "    By default, 5 closest neighbors are considered as connected.\n",
    "    Self loop is inserted'''\n",
    "    num_nodes = coordinates.shape[0]\n",
    "    edge_index = []  # list of edge indice\n",
    "\n",
    "    for i in range(num_nodes):  # iterate nodes\n",
    "        neighbors = []  # list of neighbor index\n",
    "        dists = []  # list of distance between cells\n",
    "        for j in range(num_nodes):\n",
    "            # euclidian distance\n",
    "            dist = np.linalg.norm(coordinates[i, :]-coordinates[j, :])\n",
    "            # number of neighbors should be less than the threshold + 1(self loop)\n",
    "            if len(dists) < threshold+1:\n",
    "                dists.append(dist)\n",
    "                neighbors.append(j)\n",
    "            else:\n",
    "                # only a certain number of closest cells are considered as connected\n",
    "                if dist >= np.max(dists):\n",
    "                    continue\n",
    "                else:\n",
    "                    idx = np.argmax(dists)\n",
    "                    dists[idx] = dist\n",
    "                    neighbors[idx] = j\n",
    "        for n in neighbors:\n",
    "            if [i, n] not in edge_index:\n",
    "                edge_index.append([i, n])\n",
    "                edge_index.append([n, i])\n",
    "\n",
    "    edge_index = torch.tensor(\n",
    "        edge_index, dtype=torch.long)  # resulted edge index\n",
    "    # reshape the edge_index tensor to match GAE models\n",
    "    edge_index = edge_index.t().contiguous()\n",
    "    return edge_index\n",
    "\n",
    "\n",
    "def get_edges_threshold_distance(coordinates, max_dist=100):\n",
    "    ''' generate graph edges based on cells' euclidian distance, a critical distance is set as a threshold \n",
    "    to decide wether or not two nodes are connected. Self loop inserted'''\n",
    "\n",
    "    num_nodes = coordinates.shape[0]\n",
    "    edge_index = []  # list of edge indice\n",
    "\n",
    "    for i in range(num_nodes):  # iterate nodes\n",
    "        neighbors = []  # list of neighbor index\n",
    "        dists = []  # list of distance between cells\n",
    "        for j in range(num_nodes):\n",
    "            # euclidian distance\n",
    "            dist = np.linalg.norm(coordinates[i, :]-coordinates[j, :])\n",
    "            if dist < max_dist:  # critical distance\n",
    "                dists.append(dist)\n",
    "                neighbors.append(j)\n",
    "            else:\n",
    "                continue\n",
    "\n",
    "        for n in neighbors:\n",
    "            if [i, n] not in edge_index:\n",
    "                edge_index.append([i, n])\n",
    "                edge_index.append([n, i])\n",
    "\n",
    "    edge_index = torch.tensor(edge_index, dtype=torch.long)\n",
    "    # reshape the edge_index tensor to match GAE models\n",
    "    edge_index = edge_index.t().contiguous()\n",
    "    return edge_index\n"
   ]
  },
  {
   "cell_type": "code",
   "execution_count": null,
   "id": "73abec8c",
   "metadata": {},
   "outputs": [],
   "source": []
  }
 ],
 "metadata": {
  "kernelspec": {
   "display_name": "Python 3 (ipykernel)",
   "language": "python",
   "name": "python3"
  },
  "language_info": {
   "codemirror_mode": {
    "name": "ipython",
    "version": 3
   },
   "file_extension": ".py",
   "mimetype": "text/x-python",
   "name": "python",
   "nbconvert_exporter": "python",
   "pygments_lexer": "ipython3",
   "version": "3.10.6"
  },
  "toc": {
   "base_numbering": 1,
   "nav_menu": {},
   "number_sections": true,
   "sideBar": true,
   "skip_h1_title": false,
   "title_cell": "Table of Contents",
   "title_sidebar": "Contents",
   "toc_cell": false,
   "toc_position": {},
   "toc_section_display": true,
   "toc_window_display": false
  }
 },
 "nbformat": 4,
 "nbformat_minor": 5
}
